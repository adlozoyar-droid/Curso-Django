{
  "nbformat": 4,
  "nbformat_minor": 0,
  "metadata": {
    "colab": {
      "provenance": [],
      "authorship_tag": "ABX9TyMymab7079UrPsWL28MVjOq",
      "include_colab_link": true
    },
    "kernelspec": {
      "name": "python3",
      "display_name": "Python 3"
    },
    "language_info": {
      "name": "python"
    }
  },
  "cells": [
    {
      "cell_type": "markdown",
      "metadata": {
        "id": "view-in-github",
        "colab_type": "text"
      },
      "source": [
        "<a href=\"https://colab.research.google.com/github/adlozoyar-droid/Curso-Django/blob/main/LoBasicoPythonAdriana_Lozoya.ipynb\" target=\"_parent\"><img src=\"https://colab.research.google.com/assets/colab-badge.svg\" alt=\"Open In Colab\"/></a>"
      ]
    },
    {
      "cell_type": "markdown",
      "source": [
        "## Variables en Python"
      ],
      "metadata": {
        "id": "5kAa9qLAsGNd"
      }
    },
    {
      "cell_type": "code",
      "source": [
        "a=1\n",
        "b=2.5\n",
        "print(a)\n",
        "print(b)\n",
        "type(b)"
      ],
      "metadata": {
        "colab": {
          "base_uri": "https://localhost:8080/"
        },
        "id": "UxE9C9I1szI5",
        "outputId": "d32d75ec-a428-43ba-de2d-cd8b883deeca"
      },
      "execution_count": 3,
      "outputs": [
        {
          "output_type": "stream",
          "name": "stdout",
          "text": [
            "1\n",
            "2.5\n"
          ]
        },
        {
          "output_type": "execute_result",
          "data": {
            "text/plain": [
              "float"
            ]
          },
          "metadata": {},
          "execution_count": 3
        }
      ]
    },
    {
      "cell_type": "markdown",
      "source": [
        "## Sentencia If else\n",
        "La sentencia condicional en Python (al igual que en muchos otros lenguajes de programación) es if. En su escritura debemos añadir una expresión de comparación terminando con dos puntos al final de la línea.\n"
      ],
      "metadata": {
        "id": "3cjU5lE0NwVA"
      }
    },
    {
      "cell_type": "code",
      "source": [
        "edad=int(input(\"ingrese su edad: \"))\n",
        "if edad >= 12:\n",
        "  print(\"Puede entrar\")\n",
        "else:\n",
        "  print(\"No puede entrar\")"
      ],
      "metadata": {
        "colab": {
          "base_uri": "https://localhost:8080/"
        },
        "id": "7BLVLFSmOdHi",
        "outputId": "ecf65fbc-b750-4b39-c8b9-bd40eb623922"
      },
      "execution_count": 5,
      "outputs": [
        {
          "output_type": "stream",
          "name": "stdout",
          "text": [
            "ingrese su edad: 10\n",
            "No puede entrar\n"
          ]
        }
      ]
    },
    {
      "cell_type": "markdown",
      "source": [
        "#Ciclo for\n",
        "Python permite recorrer aquellos tipos de datos que sean iterables, es decir, que admitan\n",
        "iterar2\n",
        "sobre ellos.\n"
      ],
      "metadata": {
        "id": "dMx48zBXRQh9"
      }
    },
    {
      "cell_type": "code",
      "source": [
        "letra=\"Adriana\"\n",
        "for i in letra:\n",
        "  print(i)"
      ],
      "metadata": {
        "colab": {
          "base_uri": "https://localhost:8080/"
        },
        "id": "2VGtfIttSh7P",
        "outputId": "d0063585-cdf1-470d-9b65-cdb870150497"
      },
      "execution_count": 7,
      "outputs": [
        {
          "output_type": "stream",
          "name": "stdout",
          "text": [
            "A\n",
            "d\n",
            "r\n",
            "i\n",
            "a\n",
            "n\n",
            "a\n"
          ]
        }
      ]
    },
    {
      "cell_type": "markdown",
      "source": [
        "## Listas\n",
        "Una lista está compuesta por cero o más elementos. En Python debemos escribir estos\n",
        "elementos separados por comas y dentro de corchetes.\n",
        "Permiten almacenar objetos en un orden definido."
      ],
      "metadata": {
        "id": "-iYVDjeFUBco"
      }
    },
    {
      "cell_type": "code",
      "source": [
        "frutas=[\"manzana\",\"pera\",\"naranja\"]\n",
        "print(frutas)\n",
        "\n",
        "frutas.append(\"uva\")\n",
        "print(frutas)\n",
        "print(\"Números\")\n",
        "edades=[20,30,10]\n",
        "for i in edades:\n",
        "  print(i)\n",
        "\n",
        "\n"
      ],
      "metadata": {
        "colab": {
          "base_uri": "https://localhost:8080/"
        },
        "id": "FJXSslMcVSMh",
        "outputId": "44f975b9-1a1e-4467-a36b-aaf983f0a8c6"
      },
      "execution_count": 13,
      "outputs": [
        {
          "output_type": "stream",
          "name": "stdout",
          "text": [
            "['manzana', 'pera', 'naranja']\n",
            "['manzana', 'pera', 'naranja', 'uva']\n",
            "Números\n",
            "20\n",
            "30\n",
            "10\n"
          ]
        }
      ]
    },
    {
      "cell_type": "markdown",
      "source": [
        "## Tuplas\n",
        "El concepto de tupla es muy similar al de lista. Aunque hay algunas diferencias menores, lo\n",
        "fundamental es que, mientras una lista es mutable y se puede modificar, una tupla no admite\n",
        "cambios y por lo tanto, es inmutable.\n"
      ],
      "metadata": {
        "id": "I-VZFSz-esek"
      }
    },
    {
      "cell_type": "code",
      "source": [
        "colores=\"azul\",\"verde\"\n",
        "for color in colores:\n",
        "  print(color)"
      ],
      "metadata": {
        "colab": {
          "base_uri": "https://localhost:8080/"
        },
        "id": "wQzAHFa5gyvS",
        "outputId": "3c68384d-7da7-45ad-b68c-9ab40edcc9dd"
      },
      "execution_count": 14,
      "outputs": [
        {
          "output_type": "stream",
          "name": "stdout",
          "text": [
            "azul\n",
            "verde\n"
          ]
        }
      ]
    },
    {
      "cell_type": "code",
      "source": [],
      "metadata": {
        "id": "3LocIbKRjSEe"
      },
      "execution_count": null,
      "outputs": []
    },
    {
      "cell_type": "markdown",
      "source": [
        "## Diccionarios\n",
        "Podemos trasladar el concepto de diccionario de la vida real al de diccionario en Python.\n",
        "Al fin y al cabo un diccionario es un objeto que contiene palabras, y cada palabra tiene\n",
        "asociado un significado. Haciendo el paralelismo, diríamos que en Python un diccionario es\n",
        "también un objeto indexado por claves (las palabras) que tienen asociados unos valores"
      ],
      "metadata": {
        "id": "r6ktqbfOhIQs"
      }
    },
    {
      "cell_type": "code",
      "source": [
        "elmandado={\n",
        "    \"edad\":18,\n",
        "    \"peso\":56\n",
        "}\n",
        "elmandado\n",
        "for clave,valor in elmandado.items():\n",
        "  print(clave,valor)"
      ],
      "metadata": {
        "colab": {
          "base_uri": "https://localhost:8080/"
        },
        "id": "dv-UFTG1h9RJ",
        "outputId": "69afbbe8-0c06-40e1-8442-fa0a8f07a6cc"
      },
      "execution_count": 17,
      "outputs": [
        {
          "output_type": "stream",
          "name": "stdout",
          "text": [
            "edad 18\n",
            "peso 56\n"
          ]
        }
      ]
    },
    {
      "cell_type": "markdown",
      "source": [
        "## Funciones\n",
        "El concepto de función es básico en prácticamente cualquier lenguaje de programación. Se\n",
        "trata de una estructura que nos permite agrupar código."
      ],
      "metadata": {
        "id": "ImJ-02S5oE3L"
      }
    },
    {
      "cell_type": "code",
      "source": [
        "def hola():\n",
        "  print(\"Adriana\")\n",
        "\n",
        "def suma(a,b):\n",
        "  return a+b\n",
        "\n",
        "hola()\n",
        "print(suma(1,2))\n",
        "\n",
        "\n",
        "\n",
        "\n"
      ],
      "metadata": {
        "colab": {
          "base_uri": "https://localhost:8080/"
        },
        "id": "M_0M_e2yoH2r",
        "outputId": "2f9d23d2-726f-48d1-8ff1-ff2b133743b6"
      },
      "execution_count": 19,
      "outputs": [
        {
          "output_type": "stream",
          "name": "stdout",
          "text": [
            "Adriana\n",
            "3\n"
          ]
        }
      ]
    },
    {
      "cell_type": "markdown",
      "source": [
        "## Programación orientada a objetos\n",
        "La programación orientada a objetos (POO) o en sus siglas inglesas OOP es una manera de\n",
        "programar que permite llevar al código mecanismos usados con entidades de la vida real\n"
      ],
      "metadata": {
        "id": "C-HoWyZ3qLvb"
      }
    },
    {
      "cell_type": "code",
      "source": [
        "#clase persona\n",
        "class Persona:\n",
        "  #constructor self --> a sí mismo\n",
        "  def __init__(self,nombre,edad):\n",
        "    self.nombre=nombre\n",
        "    self.edad=edad\n",
        "\n",
        "  # metodo imprimit texto\n",
        "  def imprimir(self):\n",
        "    print(self.nombre, self.edad)\n",
        "\n",
        "  #\n",
        "  #objeto P1\n",
        "  #instanciar Persona(\"John\", 36)\n",
        "  p1=Persona(\"Adriana\",80)\n",
        "\n",
        "  #imprime el atributo nombre del objeto p1\n",
        "  print(p1.nombre)\n",
        "  #imprime el atributo edad del onjeto p1\n",
        "  print(p1.edad)\n",
        "\n",
        "  #otro ejemplo\n",
        "  print(\"Otro ejemplo\")\n",
        "  pedro=Persona(\"Ana\",20)\n",
        "  print(pedro.nombre)\n",
        "  print(pedro.edad)\n",
        "  print(\"tercer ejemplo\")\n",
        "  pedro.imprimir()\n",
        "\n",
        "\n",
        ""
      ],
      "metadata": {
        "colab": {
          "base_uri": "https://localhost:8080/"
        },
        "id": "h_9sKYknr5fh",
        "outputId": "6becc92d-734c-4647-e09a-8e0fa4e1ca3c"
      },
      "execution_count": 26,
      "outputs": [
        {
          "output_type": "stream",
          "name": "stdout",
          "text": [
            "Adriana\n",
            "80\n",
            "Otro ejemplo\n",
            "Ana\n",
            "20\n",
            "tercer ejemplo\n",
            "Ana 20\n"
          ]
        }
      ]
    }
  ]
}